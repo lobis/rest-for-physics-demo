{
 "cells": [
  {
   "cell_type": "markdown",
   "metadata": {},
   "source": [
    "Load REST-for-Physics libraries"
   ]
  },
  {
   "cell_type": "code",
   "execution_count": null,
   "metadata": {},
   "outputs": [],
   "source": [
    "import ROOT\n",
    "import os\n",
    "\n",
    "rest_path = os.environ[\"REST_PATH\"]\n",
    "print(f\"REST_PATH: {rest_path}\")\n",
    "\n",
    "rest_lib_dir = f\"{rest_path}/lib\"\n",
    "\n",
    "libraries = [\n",
    "    os.path.join(rest_lib_dir, item)\n",
    "    for item in os.listdir(rest_lib_dir)\n",
    "    if os.path.splitext(item)[-1] == \".so\"\n",
    "]\n",
    "\n",
    "for library in libraries:\n",
    "    print(f\"loading library {library}\")\n",
    "    ROOT.gSystem.Load(library)"
   ]
  },
  {
   "cell_type": "markdown",
   "metadata": {},
   "source": [
    "Test REST is installed correctly"
   ]
  },
  {
   "cell_type": "code",
   "execution_count": null,
   "metadata": {},
   "outputs": [],
   "source": [
    "event = ROOT.TRestGeant4Event()\n",
    "event.PrintEvent()"
   ]
  },
  {
   "cell_type": "markdown",
   "metadata": {},
   "source": [
    "## Geant4 Simulations\n",
    "\n",
    "[REST-for-Physics](https://github.com/rest-for-physics/framework) uses the package [`restG4`](https://github.com/rest-for-physics/restG4) to perform Geant4 simulations.\n",
    "\n",
    "Simulation settings are defined in an RML (REST-Meta-Language) file. We will edit [this configuration file](simulations/simulation.rml) for the demo.\n",
    "\n",
    "The configuration file references [this GDML geometry](simulations/geometries/layered-cylinder/geometry.gdml) which can also be modified by the user."
   ]
  },
  {
   "cell_type": "markdown",
   "metadata": {},
   "source": [
    "To perform a simulation we call the `restG4` command with the configuration file as argument. \n",
    "\n",
    "Here you can see the additional options that this commands can take."
   ]
  },
  {
   "cell_type": "code",
   "execution_count": null,
   "metadata": {},
   "outputs": [],
   "source": [
    "!restG4 --help"
   ]
  },
  {
   "cell_type": "markdown",
   "metadata": {},
   "source": [
    "Running the simulation"
   ]
  },
  {
   "cell_type": "code",
   "execution_count": null,
   "metadata": {},
   "outputs": [],
   "source": [
    "!restG4 simulations/simulation.rml"
   ]
  },
  {
   "cell_type": "markdown",
   "metadata": {},
   "source": [
    "The output of the simulation is saved to `restG4_CosmicMuons_run00001.root`, a ROOT file.\n",
    "\n",
    "We can list the contents of this file via PyROOT."
   ]
  },
  {
   "cell_type": "code",
   "execution_count": null,
   "metadata": {},
   "outputs": [],
   "source": [
    "filename = \"restG4_CosmicMuons_run00001.root\"\n",
    "\n",
    "file = ROOT.TFile(filename)\n",
    "\n",
    "file.ls()"
   ]
  },
  {
   "cell_type": "markdown",
   "metadata": {},
   "source": [
    "We can also load this file into an appropiate REST structure, the `TRestRun`."
   ]
  },
  {
   "cell_type": "code",
   "execution_count": null,
   "metadata": {},
   "outputs": [],
   "source": [
    "run = ROOT.TRestRun(filename)\n",
    "\n",
    "run.Print()"
   ]
  },
  {
   "cell_type": "markdown",
   "metadata": {},
   "source": [
    "We can access the information stored inside the file"
   ]
  },
  {
   "cell_type": "code",
   "execution_count": null,
   "metadata": {},
   "outputs": [],
   "source": [
    "print(f\"This run has {run.GetEntries()} entries\")\n",
    "\n",
    "event = ROOT.TRestGeant4Event()\n",
    "\n",
    "run.SetInputEvent(event)\n",
    "\n",
    "run.GetEntry(0)"
   ]
  },
  {
   "cell_type": "code",
   "execution_count": null,
   "metadata": {},
   "outputs": [],
   "source": [
    "event.PrintEvent()"
   ]
  },
  {
   "cell_type": "code",
   "execution_count": null,
   "metadata": {},
   "outputs": [],
   "source": []
  }
 ],
 "metadata": {
  "interpreter": {
   "hash": "63fd5069d213b44bf678585dea6b12cceca9941eaf7f819626cde1f2670de90d"
  },
  "kernelspec": {
   "display_name": "Python 3.9.4 64-bit",
   "language": "python",
   "name": "python3"
  },
  "language_info": {
   "codemirror_mode": {
    "name": "ipython",
    "version": 3
   },
   "file_extension": ".py",
   "mimetype": "text/x-python",
   "name": "python",
   "nbconvert_exporter": "python",
   "pygments_lexer": "ipython3",
   "version": "3.9.7"
  },
  "orig_nbformat": 4
 },
 "nbformat": 4,
 "nbformat_minor": 2
}
