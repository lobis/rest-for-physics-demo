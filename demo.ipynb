{
 "cells": [
  {
   "cell_type": "markdown",
   "metadata": {},
   "source": [
    "Load REST-for-Physics libraries"
   ]
  },
  {
   "cell_type": "code",
   "execution_count": null,
   "metadata": {},
   "outputs": [],
   "source": [
    "import ROOT\n",
    "import os\n",
    "\n",
    "rest_path = os.environ[\"REST_PATH\"]\n",
    "print(f\"REST_PATH: {rest_path}\")\n",
    "\n",
    "rest_lib_dir = f\"{rest_path}/lib\"\n",
    "\n",
    "libraries = [\n",
    "    os.path.join(rest_lib_dir, item)\n",
    "    for item in os.listdir(rest_lib_dir)\n",
    "    if os.path.splitext(item)[-1] == \".so\"\n",
    "]\n",
    "\n",
    "for library in libraries:\n",
    "    print(f\"loading library {library}\")\n",
    "    ROOT.gSystem.Load(library)"
   ]
  },
  {
   "cell_type": "markdown",
   "metadata": {},
   "source": [
    "Test REST is installed correctly"
   ]
  },
  {
   "cell_type": "code",
   "execution_count": null,
   "metadata": {},
   "outputs": [],
   "source": [
    "event = ROOT.TRestGeant4Event()\n",
    "event.PrintEvent()"
   ]
  },
  {
   "cell_type": "code",
   "execution_count": null,
   "metadata": {},
   "outputs": [],
   "source": []
  }
 ],
 "metadata": {
  "interpreter": {
   "hash": "63fd5069d213b44bf678585dea6b12cceca9941eaf7f819626cde1f2670de90d"
  },
  "kernelspec": {
   "display_name": "Python 3.9.4 64-bit",
   "language": "python",
   "name": "python3"
  },
  "language_info": {
   "codemirror_mode": {
    "name": "ipython",
    "version": 3
   },
   "file_extension": ".py",
   "mimetype": "text/x-python",
   "name": "python",
   "nbconvert_exporter": "python",
   "pygments_lexer": "ipython3",
   "version": "3.9.7"
  },
  "orig_nbformat": 4
 },
 "nbformat": 4,
 "nbformat_minor": 2
}
